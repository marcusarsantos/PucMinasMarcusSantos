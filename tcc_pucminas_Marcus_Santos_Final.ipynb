{
 "cells": [
  {
   "cell_type": "markdown",
   "id": "6895f1eb",
   "metadata": {},
   "source": [
    "<H1><B>TCC PUC MINAS - FEVEREIRO/2024</B><BR>\n",
    "ANÁLISE CLASSIFICATÓRIA DE RISCO BASEADO NA SINISTRALIDADE MODALIDADE FURTO E ROUBO<BR>\n",
    "MARCUS ALBERTO ROSA SANTOS\n",
    "<H1/>\n"
   ]
  },
  {
   "cell_type": "markdown",
   "id": "5711537a",
   "metadata": {},
   "source": [
    "# Importação das bibliotecas"
   ]
  },
  {
   "cell_type": "code",
   "execution_count": 1,
   "id": "9f0f5206",
   "metadata": {},
   "outputs": [],
   "source": [
    "#Evitando mensagem de warnings\n",
    "import warnings\n",
    "warnings.filterwarnings('ignore')"
   ]
  },
  {
   "cell_type": "code",
   "execution_count": 2,
   "id": "b0e37623",
   "metadata": {},
   "outputs": [],
   "source": [
    "#Impontando bibliotecas de trabalho\n",
    "import numpy as np\n",
    "import pandas as pd\n",
    "import matplotlib.pyplot as plt\n",
    "import seaborn as sns\n",
    "from matplotlib import style\n",
    "style.use('ggplot')\n",
    "from datetime import datetime\n",
    "\n",
    "from sklearn.feature_selection import SelectKBest, f_classif\n",
    "from sklearn.model_selection import train_test_split\n",
    "\n",
    "from sklearn.metrics import accuracy_score, precision_score, recall_score, f1_score, classification_report\n",
    "from sklearn.metrics import roc_curve, roc_auc_score\n",
    "from sklearn.metrics import precision_recall_curve, auc"
   ]
  },
  {
   "cell_type": "markdown",
   "id": "b73f3313",
   "metadata": {},
   "source": [
    "# Carregamento dos arquivos"
   ]
  },
  {
   "cell_type": "code",
   "execution_count": 3,
   "id": "37e93a4f",
   "metadata": {},
   "outputs": [],
   "source": [
    "#ARQUIVO PRINCIPAL\n",
    "try:\n",
    "    dados = pd.read_csv('arq_casco_comp.csv', sep=';', encoding='utf-8')\n",
    "except UnicodeDecodeError:\n",
    "    try:\n",
    "        dados = pd.read_csv('arq_casco_comp.csv', sep=';', encoding='latin1')\n",
    "    except UnicodeDecodeError:\n",
    "        dados = pd.read_csv('arq_casco_comp.csv', sep=';', encoding='iso-8859-1')\n",
    "\n",
    "#RENOMEIA AS COLUNAS\n",
    "dados = dados.rename(columns={'COD_TARIF': 'COD_CATEGORIA', 'REGIAO':'COD_REGIAO','COD_MODELO':'COD_VEICULO','IDADE':'COD_IDADE','SEXO':'COD_SEXO','PREMIO1':'PREMIO','INDENIZ2':'INDENIZ_COL_PARC'})"
   ]
  },
  {
   "cell_type": "code",
   "execution_count": 4,
   "id": "d8537d28",
   "metadata": {},
   "outputs": [],
   "source": [
    "#ARQUIVO AUXILIAR DE VEICULOS\n",
    "\n",
    "try:\n",
    "    dadosveic = pd.read_csv('auto2_vei.csv', sep=';', encoding='utf-8')\n",
    "except UnicodeDecodeError:\n",
    "    try:\n",
    "        dadosveic = pd.read_csv('auto2_vei.csv', sep=';', encoding='latin1')\n",
    "    except UnicodeDecodeError:\n",
    "        dadosveic = pd.read_csv('auto2_vei.csv', sep=';', encoding='iso-8859-1')\n",
    "\n",
    "#RENOMEIA AS COLUNAS\n",
    "dadosveic = dadosveic.rename(columns={'CODIGO': 'COD_VEICULO', 'DESCRICAO': 'DESC_VEICULO','COD_GRUPO': 'COD_GP_VEICULO','GRUPO': 'DESC_GP_VEICULO'})"
   ]
  },
  {
   "cell_type": "code",
   "execution_count": 5,
   "id": "d9a2bb53",
   "metadata": {},
   "outputs": [],
   "source": [
    "#ARQUIVO AUXILIAR DE REGIAO\n",
    "try:\n",
    "    dadosRegiao = pd.read_csv('auto_reg.csv', sep=';', encoding='utf-8')\n",
    "except UnicodeDecodeError:\n",
    "    try:\n",
    "        dadosRegiao = pd.read_csv('auto_reg.csv', sep=';', encoding='latin1')\n",
    "    except UnicodeDecodeError:\n",
    "        dadosRegiao = pd.read_csv('auto_reg.csv', sep=';', encoding='iso-8859-1')\n",
    "\n",
    "        #RENOMEIA AS COLUNAS\n",
    "dadosRegiao = dadosRegiao.rename(columns={'CODIGO': 'COD_REGIAO', 'DESCRICAO':'DESC_REGIAO'})"
   ]
  },
  {
   "cell_type": "code",
   "execution_count": 6,
   "id": "12bf4c87",
   "metadata": {},
   "outputs": [],
   "source": [
    "#ARQUIVO AUXILIAR DE CATEGORIA\n",
    "\n",
    "try:\n",
    "    dadosCategoria = pd.read_csv('auto_cat.csv', sep=';', encoding='utf-8')\n",
    "except UnicodeDecodeError:\n",
    "    try:\n",
    "        dadosCategoria = pd.read_csv('auto_cat.csv', sep=';', encoding='latin1')\n",
    "    except UnicodeDecodeError:\n",
    "        dadosCategoria = pd.read_csv('auto_cat.csv', sep=';', encoding='iso-8859-1')\n",
    "\n",
    "#RENOMEIA AS COLUNAS\n",
    "dadosCategoria = dadosCategoria.rename(columns={'CODIGO': 'COD_CATEGORIA', 'CATEGORIA': 'DESC_CATEGORIA'})"
   ]
  },
  {
   "cell_type": "code",
   "execution_count": 7,
   "id": "1b425d1b",
   "metadata": {},
   "outputs": [],
   "source": [
    "#ARQUIVO AUXILIAR DE FAIXA ETARIA\n",
    "dadosIdade = pd.read_excel('auto_idade.xlsx')\n",
    "dadosIdade = dadosIdade.rename(columns={'codigo': 'COD_IDADE', 'descricao':'DESC_IDADE'})"
   ]
  },
  {
   "cell_type": "markdown",
   "id": "ea1b7857",
   "metadata": {},
   "source": [
    "# Contando os registros carregados"
   ]
  },
  {
   "cell_type": "code",
   "execution_count": 8,
   "id": "8c9edbc2",
   "metadata": {},
   "outputs": [
    {
     "data": {
      "text/plain": [
       "COD_CATEGORIA       3390758\n",
       "COD_REGIAO          3390758\n",
       "COD_VEICULO         3390758\n",
       "ANO_MODELO          3390758\n",
       "COD_SEXO            3390758\n",
       "COD_IDADE           3390758\n",
       "EXPOSICAO1          3390758\n",
       "PREMIO              3390758\n",
       "EXPOSICAO2          3390758\n",
       "PREMIO2             3390758\n",
       "IS_MEDIA            3390758\n",
       "FREQ_SIN1           3390758\n",
       "INDENIZ1            3390758\n",
       "FREQ_SIN2           3390758\n",
       "INDENIZ_COL_PARC    3390758\n",
       "FREQ_SIN3           3390758\n",
       "INDENIZ3            3390758\n",
       "FREQ_SIN4           3390758\n",
       "INDENIZ4            3390758\n",
       "FREQ_SIN9           3390758\n",
       "INDENIZ9            3390758\n",
       "ENVIO               3390758\n",
       "dtype: int64"
      ]
     },
     "execution_count": 8,
     "metadata": {},
     "output_type": "execute_result"
    }
   ],
   "source": [
    "#Volunetria dataframe dados\n",
    "dados.count()"
   ]
  },
  {
   "cell_type": "code",
   "execution_count": 9,
   "id": "d84b2e36",
   "metadata": {},
   "outputs": [
    {
     "data": {
      "text/plain": [
       "COD_VEICULO        3979\n",
       "DESC_VEICULO       3979\n",
       "DESC_GP_VEICULO    3979\n",
       "COD_GP_VEICULO     3978\n",
       "dtype: int64"
      ]
     },
     "execution_count": 9,
     "metadata": {},
     "output_type": "execute_result"
    }
   ],
   "source": [
    "#Volunetria dataframe dadosveic\n",
    "dadosveic.count()"
   ]
  },
  {
   "cell_type": "code",
   "execution_count": 10,
   "id": "104bcca7",
   "metadata": {},
   "outputs": [
    {
     "data": {
      "text/plain": [
       "COD_REGIAO     41\n",
       "DESC_REGIAO    41\n",
       "dtype: int64"
      ]
     },
     "execution_count": 10,
     "metadata": {},
     "output_type": "execute_result"
    }
   ],
   "source": [
    "#Volunetria dataframe dadosRegiao\n",
    "dadosRegiao.count()"
   ]
  },
  {
   "cell_type": "code",
   "execution_count": 11,
   "id": "fc5ccdf4",
   "metadata": {},
   "outputs": [
    {
     "data": {
      "text/plain": [
       "COD_CATEGORIA     8\n",
       "DESC_CATEGORIA    8\n",
       "dtype: int64"
      ]
     },
     "execution_count": 11,
     "metadata": {},
     "output_type": "execute_result"
    }
   ],
   "source": [
    "#Volunetria dataframe dadosCategoria\n",
    "dadosCategoria.count()"
   ]
  },
  {
   "cell_type": "code",
   "execution_count": 12,
   "id": "7982c951",
   "metadata": {},
   "outputs": [
    {
     "data": {
      "text/plain": [
       "COD_IDADE     6\n",
       "DESC_IDADE    6\n",
       "dtype: int64"
      ]
     },
     "execution_count": 12,
     "metadata": {},
     "output_type": "execute_result"
    }
   ],
   "source": [
    "#Volunetria dataframe dadosIdade\n",
    "dadosIdade.count()"
   ]
  },
  {
   "cell_type": "markdown",
   "id": "b55f6a6d",
   "metadata": {},
   "source": [
    "# Visualizando as primeiras linhas"
   ]
  },
  {
   "cell_type": "code",
   "execution_count": 13,
   "id": "50bde1a3",
   "metadata": {},
   "outputs": [
    {
     "data": {
      "text/html": [
       "<div>\n",
       "<style scoped>\n",
       "    .dataframe tbody tr th:only-of-type {\n",
       "        vertical-align: middle;\n",
       "    }\n",
       "\n",
       "    .dataframe tbody tr th {\n",
       "        vertical-align: top;\n",
       "    }\n",
       "\n",
       "    .dataframe thead th {\n",
       "        text-align: right;\n",
       "    }\n",
       "</style>\n",
       "<table border=\"1\" class=\"dataframe\">\n",
       "  <thead>\n",
       "    <tr style=\"text-align: right;\">\n",
       "      <th></th>\n",
       "      <th>COD_CATEGORIA</th>\n",
       "      <th>COD_REGIAO</th>\n",
       "      <th>COD_VEICULO</th>\n",
       "      <th>ANO_MODELO</th>\n",
       "      <th>COD_SEXO</th>\n",
       "      <th>COD_IDADE</th>\n",
       "      <th>EXPOSICAO1</th>\n",
       "      <th>PREMIO</th>\n",
       "      <th>EXPOSICAO2</th>\n",
       "      <th>PREMIO2</th>\n",
       "      <th>...</th>\n",
       "      <th>INDENIZ1</th>\n",
       "      <th>FREQ_SIN2</th>\n",
       "      <th>INDENIZ_COL_PARC</th>\n",
       "      <th>FREQ_SIN3</th>\n",
       "      <th>INDENIZ3</th>\n",
       "      <th>FREQ_SIN4</th>\n",
       "      <th>INDENIZ4</th>\n",
       "      <th>FREQ_SIN9</th>\n",
       "      <th>INDENIZ9</th>\n",
       "      <th>ENVIO</th>\n",
       "    </tr>\n",
       "  </thead>\n",
       "  <tbody>\n",
       "    <tr>\n",
       "      <th>0</th>\n",
       "      <td>9</td>\n",
       "      <td>11</td>\n",
       "      <td>515153-8</td>\n",
       "      <td>2014</td>\n",
       "      <td>J</td>\n",
       "      <td>0</td>\n",
       "      <td>16,8219174854457</td>\n",
       "      <td>20984,1537723541</td>\n",
       "      <td>0</td>\n",
       "      <td>0</td>\n",
       "      <td>...</td>\n",
       "      <td>0</td>\n",
       "      <td>0</td>\n",
       "      <td>0</td>\n",
       "      <td>0</td>\n",
       "      <td>0</td>\n",
       "      <td>0</td>\n",
       "      <td>0</td>\n",
       "      <td>0</td>\n",
       "      <td>0</td>\n",
       "      <td>2021A</td>\n",
       "    </tr>\n",
       "    <tr>\n",
       "      <th>1</th>\n",
       "      <td>1</td>\n",
       "      <td>2</td>\n",
       "      <td>025081-3</td>\n",
       "      <td>2006</td>\n",
       "      <td>F</td>\n",
       "      <td>5</td>\n",
       "      <td>0,734246578067541</td>\n",
       "      <td>421,130994796753</td>\n",
       "      <td>0</td>\n",
       "      <td>0</td>\n",
       "      <td>...</td>\n",
       "      <td>0</td>\n",
       "      <td>0</td>\n",
       "      <td>0</td>\n",
       "      <td>0</td>\n",
       "      <td>0</td>\n",
       "      <td>0</td>\n",
       "      <td>0</td>\n",
       "      <td>0</td>\n",
       "      <td>0</td>\n",
       "      <td>2021A</td>\n",
       "    </tr>\n",
       "    <tr>\n",
       "      <th>2</th>\n",
       "      <td>1</td>\n",
       "      <td>23</td>\n",
       "      <td>004318-4</td>\n",
       "      <td>2014</td>\n",
       "      <td>F</td>\n",
       "      <td>2</td>\n",
       "      <td>0,504109561443329</td>\n",
       "      <td>309,683074951172</td>\n",
       "      <td>0</td>\n",
       "      <td>0</td>\n",
       "      <td>...</td>\n",
       "      <td>0</td>\n",
       "      <td>0</td>\n",
       "      <td>0</td>\n",
       "      <td>0</td>\n",
       "      <td>0</td>\n",
       "      <td>0</td>\n",
       "      <td>0</td>\n",
       "      <td>0</td>\n",
       "      <td>0</td>\n",
       "      <td>2021A</td>\n",
       "    </tr>\n",
       "    <tr>\n",
       "      <th>3</th>\n",
       "      <td>1</td>\n",
       "      <td>39</td>\n",
       "      <td>004354-0</td>\n",
       "      <td>2011</td>\n",
       "      <td>F</td>\n",
       "      <td>5</td>\n",
       "      <td>0,402739733457565</td>\n",
       "      <td>257,049194335938</td>\n",
       "      <td>0</td>\n",
       "      <td>0</td>\n",
       "      <td>...</td>\n",
       "      <td>0</td>\n",
       "      <td>0</td>\n",
       "      <td>0</td>\n",
       "      <td>0</td>\n",
       "      <td>0</td>\n",
       "      <td>0</td>\n",
       "      <td>0</td>\n",
       "      <td>0</td>\n",
       "      <td>0</td>\n",
       "      <td>2021A</td>\n",
       "    </tr>\n",
       "    <tr>\n",
       "      <th>4</th>\n",
       "      <td>1</td>\n",
       "      <td>13</td>\n",
       "      <td>515021-3</td>\n",
       "      <td>1999</td>\n",
       "      <td>M</td>\n",
       "      <td>5</td>\n",
       "      <td>0,506849318742752</td>\n",
       "      <td>947,028137207031</td>\n",
       "      <td>0</td>\n",
       "      <td>0</td>\n",
       "      <td>...</td>\n",
       "      <td>0</td>\n",
       "      <td>0</td>\n",
       "      <td>0</td>\n",
       "      <td>0</td>\n",
       "      <td>0</td>\n",
       "      <td>0</td>\n",
       "      <td>0</td>\n",
       "      <td>0</td>\n",
       "      <td>0</td>\n",
       "      <td>2021A</td>\n",
       "    </tr>\n",
       "  </tbody>\n",
       "</table>\n",
       "<p>5 rows × 22 columns</p>\n",
       "</div>"
      ],
      "text/plain": [
       "   COD_CATEGORIA COD_REGIAO COD_VEICULO  ANO_MODELO COD_SEXO  COD_IDADE  \\\n",
       "0              9         11    515153-8        2014        J          0   \n",
       "1              1          2    025081-3        2006        F          5   \n",
       "2              1         23    004318-4        2014        F          2   \n",
       "3              1         39    004354-0        2011        F          5   \n",
       "4              1         13    515021-3        1999        M          5   \n",
       "\n",
       "          EXPOSICAO1            PREMIO  EXPOSICAO2  PREMIO2  ... INDENIZ1  \\\n",
       "0   16,8219174854457  20984,1537723541           0        0  ...        0   \n",
       "1  0,734246578067541  421,130994796753           0        0  ...        0   \n",
       "2  0,504109561443329  309,683074951172           0        0  ...        0   \n",
       "3  0,402739733457565  257,049194335938           0        0  ...        0   \n",
       "4  0,506849318742752  947,028137207031           0        0  ...        0   \n",
       "\n",
       "   FREQ_SIN2  INDENIZ_COL_PARC  FREQ_SIN3  INDENIZ3  FREQ_SIN4  INDENIZ4  \\\n",
       "0          0                 0          0         0          0         0   \n",
       "1          0                 0          0         0          0         0   \n",
       "2          0                 0          0         0          0         0   \n",
       "3          0                 0          0         0          0         0   \n",
       "4          0                 0          0         0          0         0   \n",
       "\n",
       "   FREQ_SIN9  INDENIZ9  ENVIO  \n",
       "0          0         0  2021A  \n",
       "1          0         0  2021A  \n",
       "2          0         0  2021A  \n",
       "3          0         0  2021A  \n",
       "4          0         0  2021A  \n",
       "\n",
       "[5 rows x 22 columns]"
      ]
     },
     "execution_count": 13,
     "metadata": {},
     "output_type": "execute_result"
    }
   ],
   "source": [
    "# VISUALIZANDO O ARQUIVO PRINCIPAL\n",
    "dados.head()"
   ]
  },
  {
   "cell_type": "code",
   "execution_count": 14,
   "id": "96129919",
   "metadata": {},
   "outputs": [
    {
     "data": {
      "text/html": [
       "<div>\n",
       "<style scoped>\n",
       "    .dataframe tbody tr th:only-of-type {\n",
       "        vertical-align: middle;\n",
       "    }\n",
       "\n",
       "    .dataframe tbody tr th {\n",
       "        vertical-align: top;\n",
       "    }\n",
       "\n",
       "    .dataframe thead th {\n",
       "        text-align: right;\n",
       "    }\n",
       "</style>\n",
       "<table border=\"1\" class=\"dataframe\">\n",
       "  <thead>\n",
       "    <tr style=\"text-align: right;\">\n",
       "      <th></th>\n",
       "      <th>COD_VEICULO</th>\n",
       "      <th>DESC_VEICULO</th>\n",
       "      <th>DESC_GP_VEICULO</th>\n",
       "      <th>COD_GP_VEICULO</th>\n",
       "    </tr>\n",
       "  </thead>\n",
       "  <tbody>\n",
       "    <tr>\n",
       "      <th>0</th>\n",
       "      <td>038003-2</td>\n",
       "      <td>Acura - Integra GS 1.8</td>\n",
       "      <td>ACURA</td>\n",
       "      <td>1.0</td>\n",
       "    </tr>\n",
       "    <tr>\n",
       "      <th>1</th>\n",
       "      <td>038002-4</td>\n",
       "      <td>Acura - Legend 3.2/3.5</td>\n",
       "      <td>ACURA</td>\n",
       "      <td>1.0</td>\n",
       "    </tr>\n",
       "    <tr>\n",
       "      <th>2</th>\n",
       "      <td>038001-6</td>\n",
       "      <td>Acura - NSX 3.0</td>\n",
       "      <td>ACURA</td>\n",
       "      <td>1.0</td>\n",
       "    </tr>\n",
       "    <tr>\n",
       "      <th>3</th>\n",
       "      <td>840015-6</td>\n",
       "      <td>ADLY - ATV 100</td>\n",
       "      <td>ADLY MOTOS - TODAS</td>\n",
       "      <td>2.0</td>\n",
       "    </tr>\n",
       "    <tr>\n",
       "      <th>4</th>\n",
       "      <td>840014-8</td>\n",
       "      <td>ADLY - ATV 50</td>\n",
       "      <td>ADLY MOTOS - TODAS</td>\n",
       "      <td>2.0</td>\n",
       "    </tr>\n",
       "  </tbody>\n",
       "</table>\n",
       "</div>"
      ],
      "text/plain": [
       "  COD_VEICULO            DESC_VEICULO     DESC_GP_VEICULO  COD_GP_VEICULO\n",
       "0    038003-2  Acura - Integra GS 1.8               ACURA             1.0\n",
       "1    038002-4  Acura - Legend 3.2/3.5               ACURA             1.0\n",
       "2    038001-6         Acura - NSX 3.0               ACURA             1.0\n",
       "3    840015-6          ADLY - ATV 100  ADLY MOTOS - TODAS             2.0\n",
       "4    840014-8           ADLY - ATV 50  ADLY MOTOS - TODAS             2.0"
      ]
     },
     "execution_count": 14,
     "metadata": {},
     "output_type": "execute_result"
    }
   ],
   "source": [
    "# VISUALIZANDO O ARQUIVO AUXILIAR DE VEICULOS\n",
    "dadosveic.head()"
   ]
  },
  {
   "cell_type": "code",
   "execution_count": 15,
   "id": "d55ad673",
   "metadata": {},
   "outputs": [
    {
     "data": {
      "text/html": [
       "<div>\n",
       "<style scoped>\n",
       "    .dataframe tbody tr th:only-of-type {\n",
       "        vertical-align: middle;\n",
       "    }\n",
       "\n",
       "    .dataframe tbody tr th {\n",
       "        vertical-align: top;\n",
       "    }\n",
       "\n",
       "    .dataframe thead th {\n",
       "        text-align: right;\n",
       "    }\n",
       "</style>\n",
       "<table border=\"1\" class=\"dataframe\">\n",
       "  <thead>\n",
       "    <tr style=\"text-align: right;\">\n",
       "      <th></th>\n",
       "      <th>COD_REGIAO</th>\n",
       "      <th>DESC_REGIAO</th>\n",
       "    </tr>\n",
       "  </thead>\n",
       "  <tbody>\n",
       "    <tr>\n",
       "      <th>0</th>\n",
       "      <td>1</td>\n",
       "      <td>RS - Met. Porto Alegre e Caxias do Sul</td>\n",
       "    </tr>\n",
       "    <tr>\n",
       "      <th>1</th>\n",
       "      <td>2</td>\n",
       "      <td>RS - Demais regiões</td>\n",
       "    </tr>\n",
       "    <tr>\n",
       "      <th>2</th>\n",
       "      <td>3</td>\n",
       "      <td>SC - Met. Florianópolis e Sul</td>\n",
       "    </tr>\n",
       "    <tr>\n",
       "      <th>3</th>\n",
       "      <td>4</td>\n",
       "      <td>SC - Oeste</td>\n",
       "    </tr>\n",
       "    <tr>\n",
       "      <th>4</th>\n",
       "      <td>5</td>\n",
       "      <td>SC - Blumenau e demais regiões</td>\n",
       "    </tr>\n",
       "  </tbody>\n",
       "</table>\n",
       "</div>"
      ],
      "text/plain": [
       "   COD_REGIAO                             DESC_REGIAO\n",
       "0           1  RS - Met. Porto Alegre e Caxias do Sul\n",
       "1           2                     RS - Demais regiões\n",
       "2           3           SC - Met. Florianópolis e Sul\n",
       "3           4                              SC - Oeste\n",
       "4           5          SC - Blumenau e demais regiões"
      ]
     },
     "execution_count": 15,
     "metadata": {},
     "output_type": "execute_result"
    }
   ],
   "source": [
    "# VISUALIZANDO O ARQUIVO AUXILIAR DE REGIAO\n",
    "dadosRegiao.head()"
   ]
  },
  {
   "cell_type": "code",
   "execution_count": 16,
   "id": "acd73f00",
   "metadata": {},
   "outputs": [
    {
     "data": {
      "text/html": [
       "<div>\n",
       "<style scoped>\n",
       "    .dataframe tbody tr th:only-of-type {\n",
       "        vertical-align: middle;\n",
       "    }\n",
       "\n",
       "    .dataframe tbody tr th {\n",
       "        vertical-align: top;\n",
       "    }\n",
       "\n",
       "    .dataframe thead th {\n",
       "        text-align: right;\n",
       "    }\n",
       "</style>\n",
       "<table border=\"1\" class=\"dataframe\">\n",
       "  <thead>\n",
       "    <tr style=\"text-align: right;\">\n",
       "      <th></th>\n",
       "      <th>COD_CATEGORIA</th>\n",
       "      <th>DESC_CATEGORIA</th>\n",
       "    </tr>\n",
       "  </thead>\n",
       "  <tbody>\n",
       "    <tr>\n",
       "      <th>0</th>\n",
       "      <td>1</td>\n",
       "      <td>Passeio nacional</td>\n",
       "    </tr>\n",
       "    <tr>\n",
       "      <th>1</th>\n",
       "      <td>2</td>\n",
       "      <td>Passeio importado</td>\n",
       "    </tr>\n",
       "    <tr>\n",
       "      <th>2</th>\n",
       "      <td>3</td>\n",
       "      <td>Pick-up (nacional e importado)</td>\n",
       "    </tr>\n",
       "    <tr>\n",
       "      <th>3</th>\n",
       "      <td>4</td>\n",
       "      <td>Veículo de Carga (nacional e importado)</td>\n",
       "    </tr>\n",
       "    <tr>\n",
       "      <th>4</th>\n",
       "      <td>5</td>\n",
       "      <td>Motocicleta (nacional e importado)</td>\n",
       "    </tr>\n",
       "  </tbody>\n",
       "</table>\n",
       "</div>"
      ],
      "text/plain": [
       "   COD_CATEGORIA                           DESC_CATEGORIA\n",
       "0              1                         Passeio nacional\n",
       "1              2                        Passeio importado\n",
       "2              3           Pick-up (nacional e importado)\n",
       "3              4  Veículo de Carga (nacional e importado)\n",
       "4              5       Motocicleta (nacional e importado)"
      ]
     },
     "execution_count": 16,
     "metadata": {},
     "output_type": "execute_result"
    }
   ],
   "source": [
    "# VISUALIZANDO O ARQUIVO AUXILIAR DE CATEGORIAS\n",
    "dadosCategoria.head()"
   ]
  },
  {
   "cell_type": "code",
   "execution_count": 17,
   "id": "44e94dd6",
   "metadata": {},
   "outputs": [
    {
     "data": {
      "text/html": [
       "<div>\n",
       "<style scoped>\n",
       "    .dataframe tbody tr th:only-of-type {\n",
       "        vertical-align: middle;\n",
       "    }\n",
       "\n",
       "    .dataframe tbody tr th {\n",
       "        vertical-align: top;\n",
       "    }\n",
       "\n",
       "    .dataframe thead th {\n",
       "        text-align: right;\n",
       "    }\n",
       "</style>\n",
       "<table border=\"1\" class=\"dataframe\">\n",
       "  <thead>\n",
       "    <tr style=\"text-align: right;\">\n",
       "      <th></th>\n",
       "      <th>COD_IDADE</th>\n",
       "      <th>DESC_IDADE</th>\n",
       "    </tr>\n",
       "  </thead>\n",
       "  <tbody>\n",
       "    <tr>\n",
       "      <th>0</th>\n",
       "      <td>0</td>\n",
       "      <td>Não informada</td>\n",
       "    </tr>\n",
       "    <tr>\n",
       "      <th>1</th>\n",
       "      <td>1</td>\n",
       "      <td>Entre 18 e 25 anos</td>\n",
       "    </tr>\n",
       "    <tr>\n",
       "      <th>2</th>\n",
       "      <td>2</td>\n",
       "      <td>Entre 26 e 35 anos</td>\n",
       "    </tr>\n",
       "    <tr>\n",
       "      <th>3</th>\n",
       "      <td>3</td>\n",
       "      <td>Entre 36 e 45 anos</td>\n",
       "    </tr>\n",
       "    <tr>\n",
       "      <th>4</th>\n",
       "      <td>4</td>\n",
       "      <td>Entre 46 e 55 anos</td>\n",
       "    </tr>\n",
       "  </tbody>\n",
       "</table>\n",
       "</div>"
      ],
      "text/plain": [
       "   COD_IDADE            DESC_IDADE\n",
       "0          0  Não informada       \n",
       "1          1  Entre 18 e 25 anos  \n",
       "2          2  Entre 26 e 35 anos  \n",
       "3          3  Entre 36 e 45 anos  \n",
       "4          4  Entre 46 e 55 anos  "
      ]
     },
     "execution_count": 17,
     "metadata": {},
     "output_type": "execute_result"
    }
   ],
   "source": [
    "# VISUALIZANDO O ARQUIVO FAIXA ETARIA DE IDADE\n",
    "dadosIdade.head()"
   ]
  },
  {
   "cell_type": "markdown",
   "id": "871e5044",
   "metadata": {},
   "source": [
    "# Merge entre o dataframe principal e os auxiliares"
   ]
  },
  {
   "cell_type": "code",
   "execution_count": 18,
   "id": "1c8a8cd6",
   "metadata": {},
   "outputs": [],
   "source": [
    "#MERGE REGIAO\n",
    "dados = pd.merge(dados, dadosRegiao, left_on ='COD_REGIAO', right_on='COD_REGIAO', how='inner')"
   ]
  },
  {
   "cell_type": "code",
   "execution_count": 19,
   "id": "06514c07",
   "metadata": {},
   "outputs": [],
   "source": [
    "#MERGE CATEGORIA\n",
    "dados = pd.merge(dados, dadosCategoria, left_on ='COD_CATEGORIA', right_on='COD_CATEGORIA', how='inner')"
   ]
  },
  {
   "cell_type": "code",
   "execution_count": 20,
   "id": "391f3bca",
   "metadata": {},
   "outputs": [],
   "source": [
    "#MERGE VEICULO\n",
    "dados = pd.merge(dados, dadosveic, left_on ='COD_VEICULO', right_on='COD_VEICULO', how='inner')"
   ]
  },
  {
   "cell_type": "code",
   "execution_count": 21,
   "id": "dada1b71",
   "metadata": {},
   "outputs": [],
   "source": [
    "#MERGE IDADE\n",
    "dados = pd.merge(dados, dadosIdade, left_on ='COD_IDADE', right_on='COD_IDADE', how='inner')"
   ]
  },
  {
   "cell_type": "code",
   "execution_count": 22,
   "id": "913c67d3",
   "metadata": {},
   "outputs": [
    {
     "data": {
      "text/html": [
       "<div>\n",
       "<style scoped>\n",
       "    .dataframe tbody tr th:only-of-type {\n",
       "        vertical-align: middle;\n",
       "    }\n",
       "\n",
       "    .dataframe tbody tr th {\n",
       "        vertical-align: top;\n",
       "    }\n",
       "\n",
       "    .dataframe thead th {\n",
       "        text-align: right;\n",
       "    }\n",
       "</style>\n",
       "<table border=\"1\" class=\"dataframe\">\n",
       "  <thead>\n",
       "    <tr style=\"text-align: right;\">\n",
       "      <th></th>\n",
       "      <th>COD_CATEGORIA</th>\n",
       "      <th>COD_REGIAO</th>\n",
       "      <th>COD_VEICULO</th>\n",
       "      <th>ANO_MODELO</th>\n",
       "      <th>COD_SEXO</th>\n",
       "      <th>COD_IDADE</th>\n",
       "      <th>EXPOSICAO1</th>\n",
       "      <th>PREMIO</th>\n",
       "      <th>EXPOSICAO2</th>\n",
       "      <th>PREMIO2</th>\n",
       "      <th>...</th>\n",
       "      <th>INDENIZ4</th>\n",
       "      <th>FREQ_SIN9</th>\n",
       "      <th>INDENIZ9</th>\n",
       "      <th>ENVIO</th>\n",
       "      <th>DESC_REGIAO</th>\n",
       "      <th>DESC_CATEGORIA</th>\n",
       "      <th>DESC_VEICULO</th>\n",
       "      <th>DESC_GP_VEICULO</th>\n",
       "      <th>COD_GP_VEICULO</th>\n",
       "      <th>DESC_IDADE</th>\n",
       "    </tr>\n",
       "  </thead>\n",
       "  <tbody>\n",
       "    <tr>\n",
       "      <th>0</th>\n",
       "      <td>9</td>\n",
       "      <td>11</td>\n",
       "      <td>004321-4</td>\n",
       "      <td>2013</td>\n",
       "      <td>0</td>\n",
       "      <td>4</td>\n",
       "      <td>0,328767120838165</td>\n",
       "      <td>201,311477661133</td>\n",
       "      <td>0</td>\n",
       "      <td>0</td>\n",
       "      <td>...</td>\n",
       "      <td>0</td>\n",
       "      <td>0</td>\n",
       "      <td>0</td>\n",
       "      <td>2021A</td>\n",
       "      <td>SP - Met. de São Paulo</td>\n",
       "      <td>Outros</td>\n",
       "      <td>GM - Chevrolet - Celta Spirit 1.0 MPFI 8V Flex...</td>\n",
       "      <td>GM CHEVROLET CELTA 1.0</td>\n",
       "      <td>168.0</td>\n",
       "      <td>Entre 46 e 55 anos</td>\n",
       "    </tr>\n",
       "    <tr>\n",
       "      <th>1</th>\n",
       "      <td>9</td>\n",
       "      <td>11</td>\n",
       "      <td>004321-4</td>\n",
       "      <td>2008</td>\n",
       "      <td>0</td>\n",
       "      <td>4</td>\n",
       "      <td>0,504109561443329</td>\n",
       "      <td>172,939895629883</td>\n",
       "      <td>0</td>\n",
       "      <td>0</td>\n",
       "      <td>...</td>\n",
       "      <td>0</td>\n",
       "      <td>0</td>\n",
       "      <td>0</td>\n",
       "      <td>2021A</td>\n",
       "      <td>SP - Met. de São Paulo</td>\n",
       "      <td>Outros</td>\n",
       "      <td>GM - Chevrolet - Celta Spirit 1.0 MPFI 8V Flex...</td>\n",
       "      <td>GM CHEVROLET CELTA 1.0</td>\n",
       "      <td>168.0</td>\n",
       "      <td>Entre 46 e 55 anos</td>\n",
       "    </tr>\n",
       "    <tr>\n",
       "      <th>2</th>\n",
       "      <td>9</td>\n",
       "      <td>11</td>\n",
       "      <td>004321-4</td>\n",
       "      <td>2009</td>\n",
       "      <td>0</td>\n",
       "      <td>4</td>\n",
       "      <td>0,504109561443329</td>\n",
       "      <td>204,097686767578</td>\n",
       "      <td>0</td>\n",
       "      <td>0</td>\n",
       "      <td>...</td>\n",
       "      <td>0</td>\n",
       "      <td>0</td>\n",
       "      <td>0</td>\n",
       "      <td>2021A</td>\n",
       "      <td>SP - Met. de São Paulo</td>\n",
       "      <td>Outros</td>\n",
       "      <td>GM - Chevrolet - Celta Spirit 1.0 MPFI 8V Flex...</td>\n",
       "      <td>GM CHEVROLET CELTA 1.0</td>\n",
       "      <td>168.0</td>\n",
       "      <td>Entre 46 e 55 anos</td>\n",
       "    </tr>\n",
       "    <tr>\n",
       "      <th>3</th>\n",
       "      <td>9</td>\n",
       "      <td>11</td>\n",
       "      <td>004321-4</td>\n",
       "      <td>2015</td>\n",
       "      <td>F</td>\n",
       "      <td>4</td>\n",
       "      <td>0</td>\n",
       "      <td>0</td>\n",
       "      <td>0</td>\n",
       "      <td>0</td>\n",
       "      <td>...</td>\n",
       "      <td>0</td>\n",
       "      <td>2</td>\n",
       "      <td>190</td>\n",
       "      <td>2021A</td>\n",
       "      <td>SP - Met. de São Paulo</td>\n",
       "      <td>Outros</td>\n",
       "      <td>GM - Chevrolet - Celta Spirit 1.0 MPFI 8V Flex...</td>\n",
       "      <td>GM CHEVROLET CELTA 1.0</td>\n",
       "      <td>168.0</td>\n",
       "      <td>Entre 46 e 55 anos</td>\n",
       "    </tr>\n",
       "    <tr>\n",
       "      <th>4</th>\n",
       "      <td>9</td>\n",
       "      <td>11</td>\n",
       "      <td>004321-4</td>\n",
       "      <td>2011</td>\n",
       "      <td>0</td>\n",
       "      <td>4</td>\n",
       "      <td>1,03013694286346</td>\n",
       "      <td>416,899291992188</td>\n",
       "      <td>0</td>\n",
       "      <td>0</td>\n",
       "      <td>...</td>\n",
       "      <td>0</td>\n",
       "      <td>0</td>\n",
       "      <td>0</td>\n",
       "      <td>2021A</td>\n",
       "      <td>SP - Met. de São Paulo</td>\n",
       "      <td>Outros</td>\n",
       "      <td>GM - Chevrolet - Celta Spirit 1.0 MPFI 8V Flex...</td>\n",
       "      <td>GM CHEVROLET CELTA 1.0</td>\n",
       "      <td>168.0</td>\n",
       "      <td>Entre 46 e 55 anos</td>\n",
       "    </tr>\n",
       "  </tbody>\n",
       "</table>\n",
       "<p>5 rows × 28 columns</p>\n",
       "</div>"
      ],
      "text/plain": [
       "   COD_CATEGORIA COD_REGIAO COD_VEICULO  ANO_MODELO COD_SEXO  COD_IDADE  \\\n",
       "0              9         11    004321-4        2013        0          4   \n",
       "1              9         11    004321-4        2008        0          4   \n",
       "2              9         11    004321-4        2009        0          4   \n",
       "3              9         11    004321-4        2015        F          4   \n",
       "4              9         11    004321-4        2011        0          4   \n",
       "\n",
       "          EXPOSICAO1            PREMIO  EXPOSICAO2  PREMIO2  ... INDENIZ4  \\\n",
       "0  0,328767120838165  201,311477661133           0        0  ...        0   \n",
       "1  0,504109561443329  172,939895629883           0        0  ...        0   \n",
       "2  0,504109561443329  204,097686767578           0        0  ...        0   \n",
       "3                  0                 0           0        0  ...        0   \n",
       "4   1,03013694286346  416,899291992188           0        0  ...        0   \n",
       "\n",
       "   FREQ_SIN9  INDENIZ9  ENVIO             DESC_REGIAO  DESC_CATEGORIA  \\\n",
       "0          0         0  2021A  SP - Met. de São Paulo          Outros   \n",
       "1          0         0  2021A  SP - Met. de São Paulo          Outros   \n",
       "2          0         0  2021A  SP - Met. de São Paulo          Outros   \n",
       "3          2       190  2021A  SP - Met. de São Paulo          Outros   \n",
       "4          0         0  2021A  SP - Met. de São Paulo          Outros   \n",
       "\n",
       "                                        DESC_VEICULO         DESC_GP_VEICULO  \\\n",
       "0  GM - Chevrolet - Celta Spirit 1.0 MPFI 8V Flex...  GM CHEVROLET CELTA 1.0   \n",
       "1  GM - Chevrolet - Celta Spirit 1.0 MPFI 8V Flex...  GM CHEVROLET CELTA 1.0   \n",
       "2  GM - Chevrolet - Celta Spirit 1.0 MPFI 8V Flex...  GM CHEVROLET CELTA 1.0   \n",
       "3  GM - Chevrolet - Celta Spirit 1.0 MPFI 8V Flex...  GM CHEVROLET CELTA 1.0   \n",
       "4  GM - Chevrolet - Celta Spirit 1.0 MPFI 8V Flex...  GM CHEVROLET CELTA 1.0   \n",
       "\n",
       "   COD_GP_VEICULO            DESC_IDADE  \n",
       "0           168.0  Entre 46 e 55 anos    \n",
       "1           168.0  Entre 46 e 55 anos    \n",
       "2           168.0  Entre 46 e 55 anos    \n",
       "3           168.0  Entre 46 e 55 anos    \n",
       "4           168.0  Entre 46 e 55 anos    \n",
       "\n",
       "[5 rows x 28 columns]"
      ]
     },
     "execution_count": 22,
     "metadata": {},
     "output_type": "execute_result"
    }
   ],
   "source": [
    "dados.head()"
   ]
  },
  {
   "cell_type": "markdown",
   "id": "3f373693",
   "metadata": {},
   "source": [
    "# Filtrando os registros"
   ]
  },
  {
   "cell_type": "code",
   "execution_count": 23,
   "id": "ef829a9c",
   "metadata": {},
   "outputs": [],
   "source": [
    "#AJUSTANDO COLUNA PREMIO DO TIPO OBJETO PARA NUMERICO\n",
    "dados['PREMIO'] = dados['PREMIO'].str.replace(',', '.')\n",
    "dados['PREMIO'] = dados['PREMIO'].astype(float)"
   ]
  },
  {
   "cell_type": "code",
   "execution_count": 24,
   "id": "e56feed2",
   "metadata": {},
   "outputs": [],
   "source": [
    "#FILTRANDO OS REGISTROS PREMIO MAIOR QUE ZERO E INDENIZAÇÃO COLISÃO PARCIAL MAIOR QUE ZERO\n",
    "dados = dados[dados['PREMIO'] > 0.00]\n",
    "dados = dados[dados['INDENIZ_COL_PARC'] > 0]"
   ]
  },
  {
   "cell_type": "code",
   "execution_count": 25,
   "id": "1e8caa3d",
   "metadata": {},
   "outputs": [],
   "source": [
    "#FILTRANDO OS REGISTROS SOMENTE COM CAMPO SEXO 'M' E 'F' \n",
    "dados = dados[dados['COD_SEXO'].isin(['F','M'])]"
   ]
  },
  {
   "cell_type": "code",
   "execution_count": 26,
   "id": "2c706063",
   "metadata": {},
   "outputs": [],
   "source": [
    "#FITLRANDO OS REGISTROS COM IDADE SEM ESPECIFICAÇÃO\n",
    "dados = dados[dados['COD_IDADE'] != 0]"
   ]
  },
  {
   "cell_type": "markdown",
   "id": "807b166b",
   "metadata": {},
   "source": [
    "# Excluindo colunas desnecessárias para análise"
   ]
  },
  {
   "cell_type": "code",
   "execution_count": 27,
   "id": "70de1369",
   "metadata": {},
   "outputs": [],
   "source": [
    "#DELETA COLUNAS DESNECESSÁRIAS PARA ANALISE\n",
    "dados = dados.drop(['EXPOSICAO1', 'EXPOSICAO2', 'PREMIO2', 'IS_MEDIA',\n",
    "       'FREQ_SIN1', 'FREQ_SIN2', 'INDENIZ1',\n",
    "       'FREQ_SIN3', 'INDENIZ3', 'FREQ_SIN4', 'INDENIZ4', 'FREQ_SIN9',\n",
    "       'INDENIZ9', 'ENVIO'],axis=1)"
   ]
  },
  {
   "cell_type": "code",
   "execution_count": 28,
   "id": "af5d665c",
   "metadata": {},
   "outputs": [
    {
     "data": {
      "text/plain": [
       "Index(['COD_CATEGORIA', 'COD_REGIAO', 'COD_VEICULO', 'ANO_MODELO', 'COD_SEXO',\n",
       "       'COD_IDADE', 'PREMIO', 'INDENIZ_COL_PARC', 'DESC_REGIAO',\n",
       "       'DESC_CATEGORIA', 'DESC_VEICULO', 'DESC_GP_VEICULO', 'COD_GP_VEICULO',\n",
       "       'DESC_IDADE'],\n",
       "      dtype='object')"
      ]
     },
     "execution_count": 28,
     "metadata": {},
     "output_type": "execute_result"
    }
   ],
   "source": [
    "#Colunas de trabalho\n",
    "dados.columns"
   ]
  },
  {
   "cell_type": "markdown",
   "id": "f55a8440",
   "metadata": {},
   "source": [
    "# Funções para criar faixa etária para a coluna 'ANO_MODELO' "
   ]
  },
  {
   "cell_type": "code",
   "execution_count": 29,
   "id": "fbb6b96b",
   "metadata": {},
   "outputs": [],
   "source": [
    "# Função para calcular o código da faixa etária do veículo\n",
    "def calcular_cod_faixa_etaria_veic(row):\n",
    "    ano_atual = datetime.now().year\n",
    "    diferenca_anos = abs(ano_atual - row['ANO_MODELO'])\n",
    "    \n",
    "    if diferenca_anos == 0:\n",
    "        return 0\n",
    "    elif 1 <= diferenca_anos <= 5:\n",
    "        return 1\n",
    "    elif 6 <= diferenca_anos <= 10:\n",
    "        return 2\n",
    "    elif diferenca_anos >= 11:\n",
    "        return 3\n",
    "    else:\n",
    "        return 0\n",
    "\n",
    "\n",
    "# Função para calcular o código da faixa etária do veículo\n",
    "def calcular_Desc_faixa_etaria_veic(row):\n",
    "    ano_atual = datetime.now().year\n",
    "    diferenca_anos = abs(ano_atual - row['ANO_MODELO'])\n",
    "    \n",
    "    if diferenca_anos == 0:\n",
    "        return '0 Km'\n",
    "    elif 1 <= diferenca_anos <= 5:\n",
    "        return '1 até 5 anos'\n",
    "    elif 6 <= diferenca_anos <= 10:\n",
    "        return '6 até 10 anos'\n",
    "    elif diferenca_anos >= 11:\n",
    "        return 'Acima de 11 anos'\n",
    "    else:\n",
    "        return ''"
   ]
  },
  {
   "cell_type": "code",
   "execution_count": 30,
   "id": "233ab506",
   "metadata": {},
   "outputs": [],
   "source": [
    "# Função para calcular o código da faixa de premio\n",
    "# Utilizanod a regra de Sturges \n",
    "def criar_fx_premio(premio):\n",
    "    if isinstance(premio, (int, float)):\n",
    "        premio = [premio]\n",
    "    num_bins = int(np.ceil(1 + np.log2(len(premio))))\n",
    "    return pd.cut(premio, bins=num_bins)\n"
   ]
  },
  {
   "cell_type": "markdown",
   "id": "099fee61",
   "metadata": {},
   "source": [
    "# Aplicando a função ao dataframe de trabalho"
   ]
  },
  {
   "cell_type": "code",
   "execution_count": 31,
   "id": "2c076cac",
   "metadata": {},
   "outputs": [],
   "source": [
    "dados['COD_FAIXA_ETARIA_VEICULO'] = dados.apply(calcular_cod_faixa_etaria_veic, axis=1)\n",
    "dados['DESC_FAIXA_ETARIA_VEICULO'] = dados.apply(calcular_Desc_faixa_etaria_veic, axis=1)"
   ]
  },
  {
   "cell_type": "code",
   "execution_count": 32,
   "id": "4c7ea77b",
   "metadata": {},
   "outputs": [],
   "source": [
    "#EXCLUINDO A COLUNA ANO_MODELO\n",
    "dados = dados.drop(['ANO_MODELO'],axis=1)"
   ]
  },
  {
   "cell_type": "markdown",
   "id": "4513139e",
   "metadata": {},
   "source": [
    "# Ajustando os dados em diversas colunas"
   ]
  },
  {
   "cell_type": "code",
   "execution_count": 33,
   "id": "746533f3",
   "metadata": {},
   "outputs": [],
   "source": [
    "#SUBSTITUIÇÃO DOS DADOS DA COLUNA 'SEXO' PARA NUMERICO PARA M=1 E F=0\n",
    "#EXECUÇÃO DA SUBSTITUIÇÃO\n",
    "dados['COD_SEXO'] = dados['COD_SEXO'].replace({'M': 1, 'F': 2})"
   ]
  },
  {
   "cell_type": "code",
   "execution_count": 34,
   "id": "499328ef",
   "metadata": {},
   "outputs": [],
   "source": [
    "#LIMPANDO DADOS NA COLUNA 'COD_REGIAO'\n",
    "dados = dados[dados['COD_REGIAO'] != ' .']\n",
    "dados['COD_REGIAO'] = dados['COD_REGIAO'].astype(int)"
   ]
  },
  {
   "cell_type": "code",
   "execution_count": 35,
   "id": "0110639e",
   "metadata": {},
   "outputs": [],
   "source": [
    "#RETIRANDO VALORES INVALIDOS\n",
    "dados = dados[dados['COD_REGIAO'] != 99]"
   ]
  },
  {
   "cell_type": "code",
   "execution_count": 36,
   "id": "57dc34d7",
   "metadata": {},
   "outputs": [
    {
     "data": {
      "text/plain": [
       "array([11, 23, 39, 13, 17, 38, 12,  6,  5,  8, 18,  9, 14,  4, 16,  7, 30,\n",
       "        1, 41, 20, 15,  3, 37, 21, 27, 19, 29, 24, 10, 26, 28, 35, 25, 36,\n",
       "        2, 22, 40, 31, 32, 34, 33])"
      ]
     },
     "execution_count": 36,
     "metadata": {},
     "output_type": "execute_result"
    }
   ],
   "source": [
    "#VERIFICANDO OS DADOS DA COLUNA 'COD_REGIAO'\n",
    "dados['COD_REGIAO'].unique()"
   ]
  },
  {
   "cell_type": "code",
   "execution_count": 37,
   "id": "65a759ca",
   "metadata": {},
   "outputs": [
    {
     "name": "stdout",
     "output_type": "stream",
     "text": [
      "<class 'pandas.core.frame.DataFrame'>\n",
      "Int64Index: 23507 entries, 13 to 432600\n",
      "Data columns (total 15 columns):\n",
      " #   Column                     Non-Null Count  Dtype  \n",
      "---  ------                     --------------  -----  \n",
      " 0   COD_CATEGORIA              23507 non-null  int64  \n",
      " 1   COD_REGIAO                 23507 non-null  int64  \n",
      " 2   COD_VEICULO                23507 non-null  object \n",
      " 3   COD_SEXO                   23507 non-null  int64  \n",
      " 4   COD_IDADE                  23507 non-null  int64  \n",
      " 5   PREMIO                     23507 non-null  float64\n",
      " 6   INDENIZ_COL_PARC           23507 non-null  int64  \n",
      " 7   DESC_REGIAO                23507 non-null  object \n",
      " 8   DESC_CATEGORIA             23507 non-null  object \n",
      " 9   DESC_VEICULO               23507 non-null  object \n",
      " 10  DESC_GP_VEICULO            23507 non-null  object \n",
      " 11  COD_GP_VEICULO             23507 non-null  float64\n",
      " 12  DESC_IDADE                 23507 non-null  object \n",
      " 13  COD_FAIXA_ETARIA_VEICULO   23507 non-null  int64  \n",
      " 14  DESC_FAIXA_ETARIA_VEICULO  23507 non-null  object \n",
      "dtypes: float64(2), int64(6), object(7)\n",
      "memory usage: 2.9+ MB\n"
     ]
    }
   ],
   "source": [
    "#VERIFICANDO OS DADOS AJUSTADOS\n",
    "dados.info()"
   ]
  },
  {
   "cell_type": "code",
   "execution_count": 38,
   "id": "4aaf7878",
   "metadata": {},
   "outputs": [
    {
     "data": {
      "text/plain": [
       "Index(['COD_CATEGORIA', 'COD_REGIAO', 'COD_VEICULO', 'COD_SEXO', 'COD_IDADE',\n",
       "       'PREMIO', 'INDENIZ_COL_PARC', 'DESC_REGIAO', 'DESC_CATEGORIA',\n",
       "       'DESC_VEICULO', 'DESC_GP_VEICULO', 'COD_GP_VEICULO', 'DESC_IDADE',\n",
       "       'COD_FAIXA_ETARIA_VEICULO', 'DESC_FAIXA_ETARIA_VEICULO'],\n",
       "      dtype='object')"
      ]
     },
     "execution_count": 38,
     "metadata": {},
     "output_type": "execute_result"
    }
   ],
   "source": [
    "#LISTANDO AS COLUNAS\n",
    "dados.columns"
   ]
  },
  {
   "cell_type": "markdown",
   "id": "5f590766",
   "metadata": {},
   "source": [
    "# backup do dataframe trabalhado"
   ]
  },
  {
   "cell_type": "code",
   "execution_count": 39,
   "id": "db179905",
   "metadata": {},
   "outputs": [],
   "source": [
    "dados_bkp = dados.copy()"
   ]
  },
  {
   "cell_type": "markdown",
   "id": "c229ddc8",
   "metadata": {},
   "source": [
    "# Agrupando e criando a coluna alvo 'RISCO'\n",
    "# Quando a sinistralidade for maior que 60%\n",
    "# os grupos serão: Categoria, região, sexo, faixa idade, faixa idade veículo e grupo do veículo\n"
   ]
  },
  {
   "cell_type": "code",
   "execution_count": 40,
   "id": "a9d52eb6",
   "metadata": {},
   "outputs": [],
   "source": [
    "#AGRUPANDO\n",
    "dados_gp1 = dados.groupby(['COD_CATEGORIA'\n",
    "                           ,'COD_REGIAO'\n",
    "                           ,'COD_SEXO'\n",
    "                           ,'COD_IDADE'\n",
    "                           ,'COD_FAIXA_ETARIA_VEICULO'\n",
    "                           ,'COD_GP_VEICULO'])[['PREMIO'\n",
    "                                                ,'INDENIZ_COL_PARC']].sum()\n",
    "dados_gp1 = dados_gp1.reset_index()"
   ]
  },
  {
   "cell_type": "code",
   "execution_count": 41,
   "id": "8bea3407",
   "metadata": {},
   "outputs": [
    {
     "data": {
      "text/plain": [
       "COD_CATEGORIA               13242\n",
       "COD_REGIAO                  13242\n",
       "COD_SEXO                    13242\n",
       "COD_IDADE                   13242\n",
       "COD_FAIXA_ETARIA_VEICULO    13242\n",
       "COD_GP_VEICULO              13242\n",
       "PREMIO                      13242\n",
       "INDENIZ_COL_PARC            13242\n",
       "dtype: int64"
      ]
     },
     "execution_count": 41,
     "metadata": {},
     "output_type": "execute_result"
    }
   ],
   "source": [
    "#VISUALISANDO OS DADOS\n",
    "dados_gp1.count()"
   ]
  },
  {
   "cell_type": "code",
   "execution_count": 42,
   "id": "89df62cd",
   "metadata": {},
   "outputs": [],
   "source": [
    "#INCLUINDO NOVA COLUNA DE AGRUPAMENTO PARA FAIXA DE PREMIO BASEADO NA REGRA DE STURGES\n",
    "dados_gp1['FX_PREMIO'] = dados_gp1['PREMIO'].apply(criar_fx_premio)"
   ]
  },
  {
   "cell_type": "code",
   "execution_count": 43,
   "id": "427b891c",
   "metadata": {},
   "outputs": [],
   "source": [
    "dados_gp1['FX_PREMIO'] = dados_gp1['FX_PREMIO'].astype(str)"
   ]
  },
  {
   "cell_type": "code",
   "execution_count": 44,
   "id": "c7afa143",
   "metadata": {},
   "outputs": [
    {
     "name": "stdout",
     "output_type": "stream",
     "text": [
      "<class 'pandas.core.frame.DataFrame'>\n",
      "RangeIndex: 13242 entries, 0 to 13241\n",
      "Data columns (total 9 columns):\n",
      " #   Column                    Non-Null Count  Dtype  \n",
      "---  ------                    --------------  -----  \n",
      " 0   COD_CATEGORIA             13242 non-null  int64  \n",
      " 1   COD_REGIAO                13242 non-null  int64  \n",
      " 2   COD_SEXO                  13242 non-null  int64  \n",
      " 3   COD_IDADE                 13242 non-null  int64  \n",
      " 4   COD_FAIXA_ETARIA_VEICULO  13242 non-null  int64  \n",
      " 5   COD_GP_VEICULO            13242 non-null  float64\n",
      " 6   PREMIO                    13242 non-null  float64\n",
      " 7   INDENIZ_COL_PARC          13242 non-null  int64  \n",
      " 8   FX_PREMIO                 13242 non-null  object \n",
      "dtypes: float64(2), int64(6), object(1)\n",
      "memory usage: 931.2+ KB\n"
     ]
    }
   ],
   "source": [
    "#VERIFICANDO O AGRUPAMENTO\n",
    "dados_gp1.info()"
   ]
  },
  {
   "cell_type": "code",
   "execution_count": 45,
   "id": "aa501d5c",
   "metadata": {},
   "outputs": [],
   "source": [
    "#CRIANDO O CAMPO SINISTRALIDADE INDENIZACAO / PREMIO\n",
    "dados_gp1['SINISTRALIDADE'] = dados_gp1.apply(lambda row: row['INDENIZ_COL_PARC'] / row['PREMIO'] if row['PREMIO'] != 0 else 0, axis=1)\n"
   ]
  },
  {
   "cell_type": "code",
   "execution_count": 46,
   "id": "d98df399",
   "metadata": {},
   "outputs": [],
   "source": [
    "#CRIANDO A NOVA COLUNA ALVO = RISCO\n",
    "dados_gp1['RISCO']  = np.where(dados_gp1['SINISTRALIDADE']  > 0.60, 1, 0)"
   ]
  },
  {
   "cell_type": "code",
   "execution_count": 47,
   "id": "95da7002",
   "metadata": {},
   "outputs": [
    {
     "data": {
      "text/plain": [
       "RISCO\n",
       "0    4132\n",
       "1    9110\n",
       "Name: RISCO, dtype: int64"
      ]
     },
     "execution_count": 47,
     "metadata": {},
     "output_type": "execute_result"
    }
   ],
   "source": [
    "#VERIFICANDO O BALANCEAMENTO DO CAMPO RISCO\n",
    "dados_gp1.groupby('RISCO')['RISCO'].count()"
   ]
  },
  {
   "cell_type": "code",
   "execution_count": 48,
   "id": "e0f2da4f",
   "metadata": {},
   "outputs": [
    {
     "data": {
      "text/plain": [
       "<Axes: xlabel='RISCO', ylabel='count'>"
      ]
     },
     "execution_count": 48,
     "metadata": {},
     "output_type": "execute_result"
    },
    {
     "data": {
      "image/png": "[encoded data removed]",
      "text/plain": [
       "<Figure size 640x480 with 1 Axes>"
      ]
     },
     "metadata": {},
     "output_type": "display_data"
    }
   ],
   "source": [
    "#Gráfico balanceamento variável alvo\n",
    "sns.countplot(x='RISCO',data=dados_gp1)"
   ]
  },
  {
   "cell_type": "markdown",
   "id": "b2c08602",
   "metadata": {},
   "source": [
    "# Ajustando os dados para execução dos modelos"
   ]
  },
  {
   "cell_type": "code",
   "execution_count": 49,
   "id": "ca9208d3",
   "metadata": {},
   "outputs": [],
   "source": [
    "#EXCLUINDO AS COLUNAS QUE NÃO SERÃO MAIS UTILIZADAS\n",
    "dados_gp1 = dados_gp1.drop(['PREMIO','INDENIZ_COL_PARC','SINISTRALIDADE'],axis=1)"
   ]
  },
  {
   "cell_type": "code",
   "execution_count": 50,
   "id": "8368df2d",
   "metadata": {},
   "outputs": [
    {
     "data": {
      "text/html": [
       "<div>\n",
       "<style scoped>\n",
       "    .dataframe tbody tr th:only-of-type {\n",
       "        vertical-align: middle;\n",
       "    }\n",
       "\n",
       "    .dataframe tbody tr th {\n",
       "        vertical-align: top;\n",
       "    }\n",
       "\n",
       "    .dataframe thead th {\n",
       "        text-align: right;\n",
       "    }\n",
       "</style>\n",
       "<table border=\"1\" class=\"dataframe\">\n",
       "  <thead>\n",
       "    <tr style=\"text-align: right;\">\n",
       "      <th></th>\n",
       "      <th>COD_CATEGORIA</th>\n",
       "      <th>COD_REGIAO</th>\n",
       "      <th>COD_SEXO</th>\n",
       "      <th>COD_IDADE</th>\n",
       "      <th>COD_FAIXA_ETARIA_VEICULO</th>\n",
       "      <th>COD_GP_VEICULO</th>\n",
       "      <th>FX_PREMIO</th>\n",
       "      <th>RISCO</th>\n",
       "    </tr>\n",
       "  </thead>\n",
       "  <tbody>\n",
       "    <tr>\n",
       "      <th>0</th>\n",
       "      <td>1</td>\n",
       "      <td>1</td>\n",
       "      <td>1</td>\n",
       "      <td>1</td>\n",
       "      <td>2</td>\n",
       "      <td>135.0</td>\n",
       "      <td>[(33332.255, 33398.987]]\\nCategories (1, inter...</td>\n",
       "      <td>0</td>\n",
       "    </tr>\n",
       "    <tr>\n",
       "      <th>1</th>\n",
       "      <td>1</td>\n",
       "      <td>1</td>\n",
       "      <td>1</td>\n",
       "      <td>1</td>\n",
       "      <td>2</td>\n",
       "      <td>136.0</td>\n",
       "      <td>[(2371.77, 2376.518]]\\nCategories (1, interval...</td>\n",
       "      <td>1</td>\n",
       "    </tr>\n",
       "    <tr>\n",
       "      <th>2</th>\n",
       "      <td>1</td>\n",
       "      <td>1</td>\n",
       "      <td>1</td>\n",
       "      <td>1</td>\n",
       "      <td>2</td>\n",
       "      <td>141.0</td>\n",
       "      <td>[(2693.506, 2698.898]]\\nCategories (1, interva...</td>\n",
       "      <td>0</td>\n",
       "    </tr>\n",
       "    <tr>\n",
       "      <th>3</th>\n",
       "      <td>1</td>\n",
       "      <td>1</td>\n",
       "      <td>1</td>\n",
       "      <td>1</td>\n",
       "      <td>2</td>\n",
       "      <td>173.0</td>\n",
       "      <td>[(1429.291, 1432.152]]\\nCategories (1, interva...</td>\n",
       "      <td>1</td>\n",
       "    </tr>\n",
       "    <tr>\n",
       "      <th>4</th>\n",
       "      <td>1</td>\n",
       "      <td>1</td>\n",
       "      <td>1</td>\n",
       "      <td>1</td>\n",
       "      <td>2</td>\n",
       "      <td>187.0</td>\n",
       "      <td>[(7401.755, 7416.573]]\\nCategories (1, interva...</td>\n",
       "      <td>0</td>\n",
       "    </tr>\n",
       "  </tbody>\n",
       "</table>\n",
       "</div>"
      ],
      "text/plain": [
       "   COD_CATEGORIA  COD_REGIAO  COD_SEXO  COD_IDADE  COD_FAIXA_ETARIA_VEICULO  \\\n",
       "0              1           1         1          1                         2   \n",
       "1              1           1         1          1                         2   \n",
       "2              1           1         1          1                         2   \n",
       "3              1           1         1          1                         2   \n",
       "4              1           1         1          1                         2   \n",
       "\n",
       "   COD_GP_VEICULO                                          FX_PREMIO  RISCO  \n",
       "0           135.0  [(33332.255, 33398.987]]\\nCategories (1, inter...      0  \n",
       "1           136.0  [(2371.77, 2376.518]]\\nCategories (1, interval...      1  \n",
       "2           141.0  [(2693.506, 2698.898]]\\nCategories (1, interva...      0  \n",
       "3           173.0  [(1429.291, 1432.152]]\\nCategories (1, interva...      1  \n",
       "4           187.0  [(7401.755, 7416.573]]\\nCategories (1, interva...      0  "
      ]
     },
     "execution_count": 50,
     "metadata": {},
     "output_type": "execute_result"
    }
   ],
   "source": [
    "dados_gp1.head()"
   ]
  },
  {
   "cell_type": "code",
   "execution_count": 51,
   "id": "4b6eaaa1",
   "metadata": {},
   "outputs": [
    {
     "name": "stdout",
     "output_type": "stream",
     "text": [
      "<class 'pandas.core.frame.DataFrame'>\n",
      "RangeIndex: 13242 entries, 0 to 13241\n",
      "Data columns (total 8 columns):\n",
      " #   Column                    Non-Null Count  Dtype  \n",
      "---  ------                    --------------  -----  \n",
      " 0   COD_CATEGORIA             13242 non-null  int64  \n",
      " 1   COD_REGIAO                13242 non-null  int64  \n",
      " 2   COD_SEXO                  13242 non-null  int64  \n",
      " 3   COD_IDADE                 13242 non-null  int64  \n",
      " 4   COD_FAIXA_ETARIA_VEICULO  13242 non-null  int64  \n",
      " 5   COD_GP_VEICULO            13242 non-null  float64\n",
      " 6   FX_PREMIO                 13242 non-null  object \n",
      " 7   RISCO                     13242 non-null  int64  \n",
      "dtypes: float64(1), int64(6), object(1)\n",
      "memory usage: 827.8+ KB\n"
     ]
    }
   ],
   "source": [
    "dados_gp1.info()"
   ]
  },
  {
   "cell_type": "markdown",
   "id": "8d8936e8",
   "metadata": {},
   "source": [
    "# Categorização os dados"
   ]
  },
  {
   "cell_type": "code",
   "execution_count": 52,
   "id": "fa2489b7",
   "metadata": {},
   "outputs": [
    {
     "data": {
      "text/plain": [
       "Index(['COD_CATEGORIA', 'COD_REGIAO', 'COD_SEXO', 'COD_IDADE',\n",
       "       'COD_FAIXA_ETARIA_VEICULO', 'COD_GP_VEICULO', 'FX_PREMIO'],\n",
       "      dtype='object')"
      ]
     },
     "execution_count": 52,
     "metadata": {},
     "output_type": "execute_result"
    }
   ],
   "source": [
    "cols = dados_gp1.drop('RISCO',axis=1).columns\n",
    "cols"
   ]
  },
  {
   "cell_type": "code",
   "execution_count": 53,
   "id": "ff247ba0",
   "metadata": {},
   "outputs": [],
   "source": [
    "from sklearn.preprocessing import LabelEncoder\n",
    "encoder = LabelEncoder()\n",
    "dados_gp1[cols] = dados_gp1[cols].apply(encoder.fit_transform)\n"
   ]
  },
  {
   "cell_type": "markdown",
   "id": "7eb2bbd0",
   "metadata": {},
   "source": [
    "# Divindido os dados em treinamento e teste"
   ]
  },
  {
   "cell_type": "code",
   "execution_count": 54,
   "id": "4a00f149",
   "metadata": {},
   "outputs": [],
   "source": [
    "X = dados_gp1.drop('RISCO',axis=1).values\n",
    "y = dados_gp1['RISCO'].values"
   ]
  },
  {
   "cell_type": "code",
   "execution_count": 56,
   "id": "669bc7ba",
   "metadata": {},
   "outputs": [],
   "source": [
    "# Dividir o conjunto de dados em treinamento e teste\n",
    "X_train, X_test, y_train, y_test = train_test_split(X, y, test_size=0.3, random_state=42)"
   ]
  },
  {
   "cell_type": "markdown",
   "id": "41074107",
   "metadata": {},
   "source": [
    "# Aplicando a técnica de SelectBest c/ f_classif para encontrar variáveis mais significativas"
   ]
  },
  {
   "cell_type": "code",
   "execution_count": 57,
   "id": "ae3f9f0e",
   "metadata": {},
   "outputs": [],
   "source": [
    "# Aplicar a técnica SelectKBest com f_classif para seleção de variáveis\n",
    "k_best = SelectKBest(score_func=f_classif, k=3)  # Selecionar as 3 melhores variáveis\n",
    "X_train_k_best = k_best.fit_transform(X_train, y_train)\n",
    "X_test_k_best = k_best.transform(X_test)"
   ]
  },
  {
   "cell_type": "code",
   "execution_count": 58,
   "id": "4ea29a7f",
   "metadata": {},
   "outputs": [],
   "source": [
    "# Obtendo os percentuais de importância das variáveis\n",
    "feature_scores = k_best.scores_\n",
    "total_score = sum(feature_scores)\n",
    "feature_importances = feature_scores / total_score\n",
    "features_selected = k_best.get_support()"
   ]
  },
  {
   "cell_type": "code",
   "execution_count": 59,
   "id": "0467bfc4",
   "metadata": {},
   "outputs": [
    {
     "name": "stdout",
     "output_type": "stream",
     "text": [
      "variáveis selecionadas, ordenadas pela mais importante:\n",
      "COD_CATEGORIA: 0.7056\n",
      "COD_IDADE: 0.1326\n",
      "COD_REGIAO: 0.1076\n"
     ]
    }
   ],
   "source": [
    "# Criando uma lista (índice, importância) e ordena pela importância\n",
    "sorted_features = sorted(enumerate(feature_importances), key=lambda x: x[1], reverse=True)\n",
    "\n",
    "# Exibindo as variáveis selecionadas, ordenadas pela mais importante\n",
    "print(\"variáveis selecionadas, ordenadas pela mais importante:\")\n",
    "for feature_idx, importance in sorted_features:\n",
    "    if features_selected[feature_idx]:\n",
    "        feature_name = dados_gp1.columns[feature_idx]\n",
    "        print(f\"{feature_name}: {importance:.4f}\")"
   ]
  },
  {
   "cell_type": "code",
   "execution_count": 60,
   "id": "c375dded",
   "metadata": {},
   "outputs": [
    {
     "data": {
      "image/png": "[encoded data removed]",
      "text/plain": [
       "<Figure size 1000x600 with 1 Axes>"
      ]
     },
     "metadata": {},
     "output_type": "display_data"
    }
   ],
   "source": [
    "# Criando uma lista de tuplas (índice, importância) e ordena pela importância\n",
    "sorted_features = sorted(enumerate(feature_importances), key=lambda x: x[1], reverse=True)\n",
    "\n",
    "# Extraindo os nomes das variáveis selecionadas e suas importâncias\n",
    "caracteristicas = []\n",
    "importancias = []\n",
    "for feature_idx, importance in sorted_features:\n",
    "    if features_selected[feature_idx]:\n",
    "        feature_name = dados_gp1.columns[feature_idx]\n",
    "        caracteristicas.append(feature_name)\n",
    "        importancias.append(importance)\n",
    "\n",
    "# Criando o gráfico de barras\n",
    "plt.figure(figsize=(10, 6))\n",
    "bars = plt.bar(caracteristicas, importancias, color='skyblue')\n",
    "\n",
    "# Adicionando o valor de importância em cima de cada barra\n",
    "for bar, imp in zip(bars, importancias):\n",
    "    plt.text(bar.get_x() + bar.get_width() / 2, bar.get_height() + 0.005, f'{imp:.4f}', ha='center', va='bottom')\n",
    "\n",
    "# Adicionando título e rótulos aos eixos\n",
    "plt.title('Três Variáveis Mais Importantes')\n",
    "#plt.xlabel('Variáveis')\n",
    "plt.ylabel('Importância')\n",
    "\n",
    "# Rotacionando os rótulos do eixo x para melhor visualização\n",
    "plt.xticks(rotation=45, ha='right')\n",
    "\n",
    "# Exibindo o gráfico\n",
    "plt.tight_layout()\n",
    "plt.show()"
   ]
  },
  {
   "cell_type": "markdown",
   "id": "938550d9",
   "metadata": {},
   "source": [
    "# Criando listas vazias para inclusão dos resultados dos modelos"
   ]
  },
  {
   "cell_type": "code",
   "execution_count": 61,
   "id": "d411e7c9",
   "metadata": {},
   "outputs": [],
   "source": [
    "#Criando listas vazias para cada métrica\n",
    "modelos = []\n",
    "acuracia = []\n",
    "precision = []\n",
    "recall = []\n",
    "f1 = []"
   ]
  },
  {
   "cell_type": "markdown",
   "id": "cf89f5fc",
   "metadata": {},
   "source": [
    "<h1><b>SVM</b></h1>"
   ]
  },
  {
   "cell_type": "code",
   "execution_count": 62,
   "id": "479a19b6",
   "metadata": {},
   "outputs": [],
   "source": [
    "from sklearn.svm import SVC\n",
    "\n",
    "#SVC\n",
    "#Instanciando o modelo\n",
    "model = SVC()\n",
    "#treinando o conjunto de dados\n",
    "model.fit(X_train_k_best, y_train)\n",
    "#Recebendo as predições\n",
    "y_pred = model.predict(X_test_k_best)\n",
    "\n",
    "#recebendo as metricas de avaliação de desempenho\n",
    "lr_precision, lr_recall, _ = precision_recall_curve(y_test, y_pred)"
   ]
  },
  {
   "cell_type": "markdown",
   "id": "aa4e5a86",
   "metadata": {},
   "source": [
    "# Apuração das métricas"
   ]
  },
  {
   "cell_type": "code",
   "execution_count": 63,
   "id": "f1de3994",
   "metadata": {},
   "outputs": [],
   "source": [
    "#Apurando as métricas\n",
    "acc_svm = accuracy_score(y_test,y_pred)\n",
    "precision_svm = precision_score(y_test,y_pred,average='macro')\n",
    "recall_svm = recall_score(y_test,y_pred,average='macro')\n",
    "f1_svm = f1_score(y_test,y_pred,average='macro')"
   ]
  },
  {
   "cell_type": "code",
   "execution_count": 64,
   "id": "8fa9face",
   "metadata": {},
   "outputs": [],
   "source": [
    "#Incluindo o resultado nas listas de métricas\n",
    "modelos.append(\"SVM\")\n",
    "acuracia.append(acc_svm*100)\n",
    "precision.append(precision_svm*100)\n",
    "recall.append(recall_svm*100)\n",
    "f1.append(f1_svm*100)"
   ]
  },
  {
   "cell_type": "markdown",
   "id": "5dc0ee39",
   "metadata": {},
   "source": [
    "<h1><b>DECISION TREE</b></h1>"
   ]
  },
  {
   "cell_type": "code",
   "execution_count": 65,
   "id": "c686f53b",
   "metadata": {},
   "outputs": [],
   "source": [
    "from sklearn.tree import DecisionTreeClassifier\n",
    "\n",
    "#DecisionTreeClassifier\n",
    "#Instanciando o modelo\n",
    "model = DecisionTreeClassifier()\n",
    "#treinando o conjunto de dados\n",
    "model.fit(X_train_k_best, y_train)\n",
    "#Recebendo as predições\n",
    "y_pred = model.predict(X_test_k_best)\n",
    "\n",
    "#recebendo as metricas de avaliação de desempenho\n",
    "lr_precision, lr_recall, _ = precision_recall_curve(y_test, y_pred)"
   ]
  },
  {
   "cell_type": "markdown",
   "id": "3496ca42",
   "metadata": {},
   "source": [
    "# Apuração das métricas"
   ]
  },
  {
   "cell_type": "code",
   "execution_count": 66,
   "id": "d4cbfcf3",
   "metadata": {},
   "outputs": [],
   "source": [
    "#Apurando as métricas\n",
    "acc_dtc = accuracy_score(y_test,y_pred)\n",
    "precision_dtc = precision_score(y_test,y_pred,average='macro')\n",
    "recall_dtc = recall_score(y_test,y_pred,average='macro')\n",
    "f1_dtc = f1_score(y_test,y_pred,average='macro')"
   ]
  },
  {
   "cell_type": "code",
   "execution_count": 67,
   "id": "074d3f80",
   "metadata": {},
   "outputs": [],
   "source": [
    "#Incluindo o resultado nas listas de métricas\n",
    "modelos.append(\"DECISION TREE\")\n",
    "acuracia.append(acc_dtc*100)\n",
    "precision.append(precision_dtc*100)\n",
    "recall.append(recall_dtc*100)\n",
    "f1.append(f1_dtc*100)"
   ]
  },
  {
   "cell_type": "markdown",
   "id": "8b95a56f",
   "metadata": {},
   "source": [
    "<h1><b>LOGISTIC REGRESSION</b></h1>"
   ]
  },
  {
   "cell_type": "code",
   "execution_count": 68,
   "id": "67aa048c",
   "metadata": {},
   "outputs": [],
   "source": [
    "from sklearn.linear_model import LogisticRegression\n",
    "\n",
    "#LogisticRegression\n",
    "#Instanciando o modelo\n",
    "model = LogisticRegression()\n",
    "#treinando o conjunto de dados\n",
    "model.fit(X_train_k_best, y_train)\n",
    "#Recebendo as predições\n",
    "y_pred = model.predict(X_test_k_best)\n",
    "\n",
    "#recebendo as metricas de avaliação de desempenho\n",
    "lr_precision, lr_recall, _ = precision_recall_curve(y_test, y_pred)"
   ]
  },
  {
   "cell_type": "markdown",
   "id": "724ebc28",
   "metadata": {},
   "source": [
    "# Apuração das métricas"
   ]
  },
  {
   "cell_type": "code",
   "execution_count": 69,
   "id": "34bc893f",
   "metadata": {},
   "outputs": [],
   "source": [
    "#Apurando as métricas\n",
    "acc_logreg = accuracy_score(y_test,y_pred)\n",
    "precision_logreg = precision_score(y_test,y_pred,average='macro')\n",
    "recall_logreg = recall_score(y_test,y_pred,average='macro')\n",
    "f1_logreg = f1_score(y_test,y_pred,average='macro')"
   ]
  },
  {
   "cell_type": "code",
   "execution_count": 70,
   "id": "cc5f5de5",
   "metadata": {},
   "outputs": [],
   "source": [
    "#Incluindo o resultado nas listas de métricas\n",
    "modelos.append(\"LOGISTIC REGRESSION\")\n",
    "acuracia.append(acc_logreg*100)\n",
    "precision.append(precision_logreg*100)\n",
    "recall.append(recall_logreg*100)\n",
    "f1.append(f1_logreg*100)"
   ]
  },
  {
   "cell_type": "markdown",
   "id": "6b1f563e",
   "metadata": {},
   "source": [
    "# Resultado final comparando os quatro modelos"
   ]
  },
  {
   "cell_type": "code",
   "execution_count": 71,
   "id": "b3ef7313",
   "metadata": {},
   "outputs": [
    {
     "data": {
      "text/html": [
       "<div>\n",
       "<style scoped>\n",
       "    .dataframe tbody tr th:only-of-type {\n",
       "        vertical-align: middle;\n",
       "    }\n",
       "\n",
       "    .dataframe tbody tr th {\n",
       "        vertical-align: top;\n",
       "    }\n",
       "\n",
       "    .dataframe thead th {\n",
       "        text-align: right;\n",
       "    }\n",
       "</style>\n",
       "<table border=\"1\" class=\"dataframe\">\n",
       "  <thead>\n",
       "    <tr style=\"text-align: right;\">\n",
       "      <th></th>\n",
       "      <th>Modelo</th>\n",
       "      <th>Acuracia</th>\n",
       "      <th>Precisão</th>\n",
       "      <th>Recall</th>\n",
       "      <th>F1</th>\n",
       "    </tr>\n",
       "  </thead>\n",
       "  <tbody>\n",
       "    <tr>\n",
       "      <th>1</th>\n",
       "      <td>DECISION TREE</td>\n",
       "      <td>69.468915</td>\n",
       "      <td>62.793023</td>\n",
       "      <td>58.737992</td>\n",
       "      <td>58.910044</td>\n",
       "    </tr>\n",
       "    <tr>\n",
       "      <th>0</th>\n",
       "      <td>SVM</td>\n",
       "      <td>68.613139</td>\n",
       "      <td>34.306569</td>\n",
       "      <td>50.000000</td>\n",
       "      <td>40.692641</td>\n",
       "    </tr>\n",
       "    <tr>\n",
       "      <th>2</th>\n",
       "      <td>LOGISTIC REGRESSION</td>\n",
       "      <td>68.613139</td>\n",
       "      <td>34.306569</td>\n",
       "      <td>50.000000</td>\n",
       "      <td>40.692641</td>\n",
       "    </tr>\n",
       "  </tbody>\n",
       "</table>\n",
       "</div>"
      ],
      "text/plain": [
       "                Modelo   Acuracia   Precisão     Recall         F1\n",
       "1        DECISION TREE  69.468915  62.793023  58.737992  58.910044\n",
       "0                  SVM  68.613139  34.306569  50.000000  40.692641\n",
       "2  LOGISTIC REGRESSION  68.613139  34.306569  50.000000  40.692641"
      ]
     },
     "execution_count": 71,
     "metadata": {},
     "output_type": "execute_result"
    }
   ],
   "source": [
    "#Criando um dicionário para juntas todas as listas das métricas\n",
    "dici = {\"Modelo\" : modelos, \"Acuracia\" : acuracia, \"Precisão\" : precision, \"Recall\" : recall, \"F1\" : f1}\n",
    "pd_dici = pd.DataFrame(dici)\n",
    "pd_dici = pd_dici.sort_values('Acuracia',ascending=False)\n",
    "pd_dici"
   ]
  },
  {
   "cell_type": "code",
   "execution_count": 72,
   "id": "57cf88f0",
   "metadata": {},
   "outputs": [
    {
     "data": {
      "image/png": "[encoded data removed]",
      "text/plain": [
       "<Figure size 1200x800 with 1 Axes>"
      ]
     },
     "metadata": {},
     "output_type": "display_data"
    }
   ],
   "source": [
    "# Definindo as métricas e os modelos\n",
    "metricas = ['Acuracia', 'Precisão', 'Recall', 'F1']\n",
    "modelos = pd_dici['Modelo']\n",
    "valores = pd_dici[metricas].values.T\n",
    "\n",
    "# Definindo a largura das barras\n",
    "largura_barra = 0.2\n",
    "n_metricas = len(metricas)\n",
    "n_modelos = len(modelos)\n",
    "\n",
    "# Definindo cores pastéis\n",
    "cores = ['lightblue', 'lightgreen', 'lightcoral', 'lightyellow']\n",
    "\n",
    "# Criando o gráfico de barras agrupadas\n",
    "fig, ax = plt.subplots(figsize=(12, 8))\n",
    "\n",
    "for i in range(n_metricas):\n",
    "    posicoes = np.arange(n_modelos) + (largura_barra * i) - ((largura_barra * n_metricas) / 2)\n",
    "    ax.bar(posicoes, valores[i], width=largura_barra, label=metricas[i], color=cores[i])\n",
    "\n",
    "# Adicionando legendas e rótulos\n",
    "ax.set_xlabel('Modelos')\n",
    "ax.set_ylabel('Percetual de avaliação')\n",
    "ax.set_title('Comparativo entre os modelos executados')\n",
    "ax.set_xticks(np.arange(n_modelos))\n",
    "ax.set_xticklabels(modelos, rotation=45, ha='right')\n",
    "ax.legend()\n",
    "\n",
    "# Exibindo o gráfico\n",
    "plt.tight_layout()\n",
    "plt.show()\n"
   ]
  },
  {
   "cell_type": "code",
   "execution_count": null,
   "id": "700065fe",
   "metadata": {},
   "outputs": [],
   "source": []
  }
 ],
 "metadata": {
  "kernelspec": {
   "display_name": "Python 3 (ipykernel)",
   "language": "python",
   "name": "python3"
  },
  "language_info": {
   "codemirror_mode": {
    "name": "ipython",
    "version": 3
   },
   "file_extension": ".py",
   "mimetype": "text/x-python",
   "name": "python",
   "nbconvert_exporter": "python",
   "pygments_lexer": "ipython3",
   "version": "3.11.4"
  }
 },
 "nbformat": 4,
 "nbformat_minor": 5
}
